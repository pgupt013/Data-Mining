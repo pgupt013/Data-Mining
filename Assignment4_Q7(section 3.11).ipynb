{
 "cells": [
  {
   "cell_type": "markdown",
   "metadata": {},
   "source": [
    "## Section 3.11- Question 7"
   ]
  },
  {
   "cell_type": "code",
   "execution_count": 1,
   "metadata": {},
   "outputs": [],
   "source": [
    "# import the libraries\n",
    "import pandas as pd\n",
    "import numpy as np"
   ]
  },
  {
   "cell_type": "code",
   "execution_count": 2,
   "metadata": {},
   "outputs": [
    {
     "data": {
      "text/html": [
       "<div>\n",
       "<style scoped>\n",
       "    .dataframe tbody tr th:only-of-type {\n",
       "        vertical-align: middle;\n",
       "    }\n",
       "\n",
       "    .dataframe tbody tr th {\n",
       "        vertical-align: top;\n",
       "    }\n",
       "\n",
       "    .dataframe thead th {\n",
       "        text-align: right;\n",
       "    }\n",
       "</style>\n",
       "<table border=\"1\" class=\"dataframe\">\n",
       "  <thead>\n",
       "    <tr style=\"text-align: right;\">\n",
       "      <th></th>\n",
       "      <th>X</th>\n",
       "      <th>Y</th>\n",
       "      <th>Z</th>\n",
       "      <th>C1</th>\n",
       "      <th>C2</th>\n",
       "    </tr>\n",
       "  </thead>\n",
       "  <tbody>\n",
       "    <tr>\n",
       "      <th>0</th>\n",
       "      <td>0</td>\n",
       "      <td>0</td>\n",
       "      <td>0</td>\n",
       "      <td>5</td>\n",
       "      <td>40</td>\n",
       "    </tr>\n",
       "    <tr>\n",
       "      <th>1</th>\n",
       "      <td>0</td>\n",
       "      <td>0</td>\n",
       "      <td>1</td>\n",
       "      <td>0</td>\n",
       "      <td>15</td>\n",
       "    </tr>\n",
       "    <tr>\n",
       "      <th>2</th>\n",
       "      <td>0</td>\n",
       "      <td>1</td>\n",
       "      <td>0</td>\n",
       "      <td>10</td>\n",
       "      <td>5</td>\n",
       "    </tr>\n",
       "    <tr>\n",
       "      <th>3</th>\n",
       "      <td>0</td>\n",
       "      <td>1</td>\n",
       "      <td>1</td>\n",
       "      <td>45</td>\n",
       "      <td>0</td>\n",
       "    </tr>\n",
       "    <tr>\n",
       "      <th>4</th>\n",
       "      <td>1</td>\n",
       "      <td>0</td>\n",
       "      <td>0</td>\n",
       "      <td>10</td>\n",
       "      <td>5</td>\n",
       "    </tr>\n",
       "    <tr>\n",
       "      <th>5</th>\n",
       "      <td>1</td>\n",
       "      <td>0</td>\n",
       "      <td>1</td>\n",
       "      <td>25</td>\n",
       "      <td>0</td>\n",
       "    </tr>\n",
       "    <tr>\n",
       "      <th>6</th>\n",
       "      <td>1</td>\n",
       "      <td>1</td>\n",
       "      <td>0</td>\n",
       "      <td>5</td>\n",
       "      <td>20</td>\n",
       "    </tr>\n",
       "    <tr>\n",
       "      <th>7</th>\n",
       "      <td>1</td>\n",
       "      <td>1</td>\n",
       "      <td>1</td>\n",
       "      <td>0</td>\n",
       "      <td>15</td>\n",
       "    </tr>\n",
       "  </tbody>\n",
       "</table>\n",
       "</div>"
      ],
      "text/plain": [
       "   X  Y  Z  C1  C2\n",
       "0  0  0  0   5  40\n",
       "1  0  0  1   0  15\n",
       "2  0  1  0  10   5\n",
       "3  0  1  1  45   0\n",
       "4  1  0  0  10   5\n",
       "5  1  0  1  25   0\n",
       "6  1  1  0   5  20\n",
       "7  1  1  1   0  15"
      ]
     },
     "execution_count": 2,
     "metadata": {},
     "output_type": "execute_result"
    }
   ],
   "source": [
    "# create the dataframe\n",
    "data = {\n",
    "    'X':[0,0,0,0,1,1,1,1],\n",
    "    'Y':[0,0,1,1,0,0,1,1],\n",
    "    'Z':[0,1,0,1,0,1,0,1],\n",
    "    'C1':[5,0,10,45,10,25,5,0],\n",
    "    'C2':[40,15,5,0,5,0,20,15]}\n",
    "df = pd.DataFrame(data)\n",
    "df"
   ]
  },
  {
   "cell_type": "markdown",
   "metadata": {},
   "source": [
    "#### Compute a two-level decision tree using the greedy approach described in this chapter. Use the classification error rate as the criterion for splitting. What is the overall error rate of the induced tree?"
   ]
  },
  {
   "cell_type": "code",
   "execution_count": 3,
   "metadata": {},
   "outputs": [
    {
     "name": "stdout",
     "output_type": "stream",
     "text": [
      "        C1   C2\n",
      "X              \n",
      "0       60   60\n",
      "1       40   40\n",
      "Total  100  100\n",
      "The Error rate for X is: 0.5\n"
     ]
    }
   ],
   "source": [
    "#### Splitting attribute at Level 1\n",
    "####Error rates for X:\n",
    "df_X=df[[\"X\",\"C1\",\"C2\"]]\n",
    "X_PT=df_X.pivot_table(index=['X'],\n",
    "              aggfunc='sum',margins=True,margins_name=\"Total\",fill_value=0)\n",
    "print(X_PT)\n",
    "ErrorRate_X=(60+40)/200\n",
    "print(\"The Error rate for X is:\",ErrorRate_X)"
   ]
  },
  {
   "cell_type": "code",
   "execution_count": 4,
   "metadata": {},
   "outputs": [
    {
     "name": "stdout",
     "output_type": "stream",
     "text": [
      "        C1   C2\n",
      "Y              \n",
      "0       40   60\n",
      "1       60   40\n",
      "Total  100  100\n",
      "The Error rate for Y is: 0.4\n"
     ]
    }
   ],
   "source": [
    "####Error rates for Y:\n",
    "df_Y=df[[\"Y\",\"C1\",\"C2\"]]\n",
    "Y_PT=df_Y.pivot_table(index=['Y'],\n",
    "              aggfunc='sum',\n",
    "                margins=True,margins_name=\"Total\",fill_value=0)\n",
    "print(Y_PT)\n",
    "ErrorRate_Y=(40+40)/200\n",
    "print(\"The Error rate for Y is:\",ErrorRate_Y)"
   ]
  },
  {
   "cell_type": "code",
   "execution_count": 5,
   "metadata": {},
   "outputs": [
    {
     "name": "stdout",
     "output_type": "stream",
     "text": [
      "        C1   C2\n",
      "Z              \n",
      "0       30   70\n",
      "1       70   30\n",
      "Total  100  100\n",
      "The Error rate for Z is: 0.3\n"
     ]
    }
   ],
   "source": [
    "#### Error rates for Z:\n",
    "df_Z=df[[\"Z\",\"C1\",\"C2\"]]\n",
    "Z_PT=df_Z.pivot_table(index=['Z'],\n",
    "              aggfunc='sum',\n",
    "                margins=True,margins_name=\"Total\",fill_value=0)\n",
    "print(Z_PT)\n",
    "ErrorRate_Z=(30+30)/200\n",
    "print(\"The Error rate for Z is:\",ErrorRate_Z)"
   ]
  },
  {
   "cell_type": "code",
   "execution_count": 6,
   "metadata": {},
   "outputs": [
    {
     "name": "stdout",
     "output_type": "stream",
     "text": [
      "       C1  C2\n",
      "X            \n",
      "0      15  45\n",
      "1      15  25\n",
      "Total  30  70\n"
     ]
    }
   ],
   "source": [
    "#### Splitting attribute at level 2\n",
    "#### Subset the dataframe with Z =0\n",
    "df_Z0=df[df[\"Z\"]==0]\n",
    "#### For Z = 0, the corresponding counts for attributes X\n",
    "df_Z0_X=df_Z0[[\"X\",\"C1\",\"C2\"]]\n",
    "df_Z0_X_PT=df_Z0_X.pivot_table(index=['X'],\n",
    "              aggfunc='sum',margins=True,margins_name=\"Total\",fill_value=0)\n",
    "print(df_Z0_X_PT)"
   ]
  },
  {
   "cell_type": "code",
   "execution_count": 7,
   "metadata": {},
   "outputs": [
    {
     "name": "stdout",
     "output_type": "stream",
     "text": [
      "       C1  C2\n",
      "Y            \n",
      "0      15  45\n",
      "1      15  25\n",
      "Total  30  70\n"
     ]
    }
   ],
   "source": [
    "#### Subset the dataframe with Z =0\n",
    "df_Z0=df[df[\"Z\"]==0]\n",
    "#### For Z = 0, the corresponding counts for attributes Y\n",
    "df_Z0_Y=df_Z0[[\"Y\",\"C1\",\"C2\"]]\n",
    "df_Z0_Y_PT=df_Z0_Y.pivot_table(index=['Y'],\n",
    "              aggfunc='sum',margins=True,margins_name=\"Total\",fill_value=0)\n",
    "print(df_Z0_Y_PT)"
   ]
  },
  {
   "cell_type": "code",
   "execution_count": 8,
   "metadata": {},
   "outputs": [
    {
     "name": "stdout",
     "output_type": "stream",
     "text": [
      "The Error rate for X AND Y is: 0.3\n"
     ]
    }
   ],
   "source": [
    "#### The error rate in both cases (X and Y) when Z=0\n",
    "Error_Rate_in_X_AND_Y = (15 + 15)/100 \n",
    "print(\"The Error rate for X AND Y is:\",Error_Rate_in_X_AND_Y)"
   ]
  },
  {
   "cell_type": "code",
   "execution_count": 9,
   "metadata": {},
   "outputs": [
    {
     "name": "stdout",
     "output_type": "stream",
     "text": [
      "       C1  C2\n",
      "Y            \n",
      "0      25  15\n",
      "1      45  15\n",
      "Total  70  30\n"
     ]
    }
   ],
   "source": [
    "#### Subset the dataframe with Z =1\n",
    "df_Z1=df[df[\"Z\"]==1]\n",
    "df_Z1\n",
    "#### For Z = 1, the corresponding counts for attributes Y\n",
    "df_Z1_Y=df_Z1[[\"Y\",\"C1\",\"C2\"]]\n",
    "df_Z1_Y_PT=df_Z1_Y.pivot_table(index=['Y'],\n",
    "              aggfunc='sum',margins=True,margins_name=\"Total\",fill_value=0)\n",
    "print(df_Z1_Y_PT)"
   ]
  },
  {
   "cell_type": "code",
   "execution_count": 10,
   "metadata": {},
   "outputs": [
    {
     "name": "stdout",
     "output_type": "stream",
     "text": [
      "The Error rate for X AND Y is: 0.3\n"
     ]
    }
   ],
   "source": [
    "#### The error rate in both cases (X and Y) when Z=1\n",
    "Error_Rate_in_X_AND_Y = (15 + 15)/100 \n",
    "print(\"The Error rate for X AND Y is:\",Error_Rate_in_X_AND_Y)"
   ]
  },
  {
   "cell_type": "code",
   "execution_count": 11,
   "metadata": {},
   "outputs": [
    {
     "name": "stdout",
     "output_type": "stream",
     "text": [
      "Overall error rate for the induced tress is:  0.3\n"
     ]
    }
   ],
   "source": [
    "### The overall error rate for the induced tree is:\n",
    "print(\"Overall error rate for the induced tress is: \",(15+15+15+15)/200)"
   ]
  },
  {
   "cell_type": "markdown",
   "metadata": {},
   "source": [
    "#### Repeat part (a) using X as the first splitting attribute and then choose the best remaining attribute for splitting at each of the two successor nodes. What is the error rate of the induced tree?"
   ]
  },
  {
   "cell_type": "code",
   "execution_count": 12,
   "metadata": {},
   "outputs": [
    {
     "name": "stdout",
     "output_type": "stream",
     "text": [
      "       C1  C2\n",
      "Y            \n",
      "0       5  55\n",
      "1      55   5\n",
      "Total  60  60\n",
      "The Error rate for Y when X=0 is: 0.08333333333333333\n"
     ]
    }
   ],
   "source": [
    "#### Subset the dataframe with X =0\n",
    "df_X0=df[df[\"X\"]==0]\n",
    "df_X0\n",
    "#### For X = 0, the corresponding counts for attributes Y\n",
    "df_X0_Y=df_X0[[\"Y\",\"C1\",\"C2\"]]\n",
    "df_X0_Y_PT=df_X0_Y.pivot_table(index=['Y'],\n",
    "              aggfunc='sum',margins=True,margins_name=\"Total\",fill_value=0)\n",
    "print(df_X0_Y_PT)\n",
    "\n",
    "#### The error rate using attribute Y is:\n",
    "Error_Rate_Attribute_Y_For_X0=(5+5)/120\n",
    "print(\"The Error rate for Y when X=0 is:\",Error_Rate_Attribute_Y_For_X0)"
   ]
  },
  {
   "cell_type": "code",
   "execution_count": 13,
   "metadata": {},
   "outputs": [
    {
     "name": "stdout",
     "output_type": "stream",
     "text": [
      "       C1  C2\n",
      "Z            \n",
      "0      15  45\n",
      "1      45  15\n",
      "Total  60  60\n",
      "The Error rate for Z when X=0 is: 0.25\n"
     ]
    }
   ],
   "source": [
    "#### Subset the dataframe with X =0\n",
    "df_X0=df[df[\"X\"]==0]\n",
    "df_X0\n",
    "#### For X = 0, the corresponding counts for attributes Z\n",
    "df_X0_Z=df_X0[[\"Z\",\"C1\",\"C2\"]]\n",
    "df_X0_Z_PT=df_X0_Z.pivot_table(index=['Z'],\n",
    "              aggfunc='sum',margins=True,margins_name=\"Total\",fill_value=0)\n",
    "print(df_X0_Z_PT)\n",
    "\n",
    "#### The error rate using attribute Z is:\n",
    "Error_Rate_Attribute_Z_For_X0=(15+15)/120\n",
    "print(\"The Error rate for Z when X=0 is:\",Error_Rate_Attribute_Z_For_X0)"
   ]
  },
  {
   "cell_type": "code",
   "execution_count": 14,
   "metadata": {},
   "outputs": [
    {
     "name": "stdout",
     "output_type": "stream",
     "text": [
      "       C1  C2\n",
      "Y            \n",
      "0      35   5\n",
      "1       5  35\n",
      "Total  40  40\n"
     ]
    }
   ],
   "source": [
    "#### Subset the dataframe with X =1\n",
    "df_X1=df[df[\"X\"]==1]\n",
    "df_X1\n",
    "#### For X = 1, the corresponding counts for attributes Y\n",
    "df_X1_Y=df_X1[[\"Y\",\"C1\",\"C2\"]]\n",
    "df_X1_Y_PT=df_X1_Y.pivot_table(index=['Y'],\n",
    "              aggfunc='sum',margins=True,margins_name=\"Total\",fill_value=0)\n",
    "print(df_X1_Y_PT)"
   ]
  },
  {
   "cell_type": "code",
   "execution_count": 15,
   "metadata": {},
   "outputs": [
    {
     "name": "stdout",
     "output_type": "stream",
     "text": [
      "The Error rate for Y when X=1 is: 0.125\n"
     ]
    }
   ],
   "source": [
    "#### The error rate using attribute Y is:\n",
    "Error_Rate_Attribute_Y_For_X1=(10)/80\n",
    "print(\"The Error rate for Y when X=1 is:\",Error_Rate_Attribute_Y_For_X1)"
   ]
  },
  {
   "cell_type": "code",
   "execution_count": 16,
   "metadata": {},
   "outputs": [
    {
     "name": "stdout",
     "output_type": "stream",
     "text": [
      "       C1  C2\n",
      "Z            \n",
      "0      15  25\n",
      "1      25  15\n",
      "Total  40  40\n"
     ]
    }
   ],
   "source": [
    "#### Subset the dataframe with X =1\n",
    "df_X1=df[df[\"X\"]==1]\n",
    "df_X1\n",
    "#### For X = 1, the corresponding counts for attributes Z\n",
    "df_X1_Z=df_X1[[\"Z\",\"C1\",\"C2\"]]\n",
    "\n",
    "df_X1_Z_PT=df_X1_Z.pivot_table(index=['Z'],\n",
    "              aggfunc='sum',margins=True,margins_name=\"Total\",fill_value=0)\n",
    "print(df_X1_Z_PT)"
   ]
  },
  {
   "cell_type": "code",
   "execution_count": 17,
   "metadata": {},
   "outputs": [
    {
     "name": "stdout",
     "output_type": "stream",
     "text": [
      "The Error rate for Z when X=1 is: 0.375\n"
     ]
    }
   ],
   "source": [
    "#### The error rate using attribute Z is:\n",
    "Error_Rate_Attribute_Z_For_X1=30/80\n",
    "print(\"The Error rate for Z when X=1 is:\",Error_Rate_Attribute_Z_For_X1)"
   ]
  },
  {
   "cell_type": "code",
   "execution_count": 18,
   "metadata": {},
   "outputs": [
    {
     "name": "stdout",
     "output_type": "stream",
     "text": [
      "The Overall Error Rate of the induced tree is: 0.1\n"
     ]
    }
   ],
   "source": [
    "#### The overall error rate of the induced tree is \n",
    "Overall_Error_Rate=(10 + 10)/200\n",
    "print(\"The Overall Error Rate of the induced tree is:\",Overall_Error_Rate)"
   ]
  }
 ],
 "metadata": {
  "kernelspec": {
   "display_name": "Python 3",
   "language": "python",
   "name": "python3"
  },
  "language_info": {
   "codemirror_mode": {
    "name": "ipython",
    "version": 3
   },
   "file_extension": ".py",
   "mimetype": "text/x-python",
   "name": "python",
   "nbconvert_exporter": "python",
   "pygments_lexer": "ipython3",
   "version": "3.7.3"
  }
 },
 "nbformat": 4,
 "nbformat_minor": 2
}
