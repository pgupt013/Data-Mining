{
 "cells": [
  {
   "cell_type": "code",
   "execution_count": null,
   "metadata": {},
   "outputs": [],
   "source": [
    "### Question 19\n",
    "\n",
    "import numpy as np\n",
    "import math\n",
    "from scipy import stats\n",
    "\n",
    "### function to create Cosine similarity\n",
    "def cos_sim(x,y):\n",
    "    x= np.array(x)\n",
    "    y= np.array(y)\n",
    "    return np.dot(x,y)/(np.linalg.norm(x)*np.linalg.norm(y))\n",
    "\n",
    "### function to create Euclidean distance \n",
    "def euclidean_dist(x,y):\n",
    "    return np.linalg.norm(x-y)\n",
    "\n",
    "### function to create cofficient of correlation\n",
    "def corr_coeff(x,y):\n",
    "    return stats.pearsonr(x,y)[0]\n",
    "\n",
    "### function to create Jaccard similarity\n",
    "def jaccard(x,y):\n",
    "    if len(x) != len(y):\n",
    "        print(\"Vectors must be of the same length!\")\n",
    "        return None\n",
    "    \n",
    "    f01=0\n",
    "    f10=0\n",
    "    f11=0\n",
    "    \n",
    "    for x0, y0 in zip(x,y):\n",
    "        if x0==1:\n",
    "            if x0==y0:\n",
    "                f11+=1\n",
    "            else:\n",
    "                f10+=1\n",
    "        else:\n",
    "            if x0 != y0:\n",
    "                f01 +=1\n",
    "    return (f11) / (f01+f10+f11)\n",
    "\n",
    "\n",
    " \n"
   ]
  },
  {
   "cell_type": "code",
   "execution_count": null,
   "metadata": {},
   "outputs": [],
   "source": [
    "### Question 19(1)\n",
    "x1=np.array([1,1,1,1])\n",
    "y1=np.array([2,2,2,2])\n",
    "\n",
    "print(\"Question 19(1):\")\n",
    "print(\"Cosine similarity : \"+ str(cos_sim(x1,y1)))\n",
    "print(\"Correlation coefficient : \"+ str(corr_coeff(x1,y1)))\n",
    "print(\"Euclidean Distance : \" + str(euclidean_dist(x1,y1)))"
   ]
  },
  {
   "cell_type": "code",
   "execution_count": null,
   "metadata": {},
   "outputs": [],
   "source": [
    "### Question 19(2)\n",
    "x2=np.array([0,1,0,1])\n",
    "y2=np.array([1,0,1,0])\n",
    "\n",
    "print(\"Question 19(2) :\")\n",
    "print(\"Cosine similarity :\"+ str(cos_sim(x2,y2)))\n",
    "print(\"Correlation coefficient : \"+ str(corr_coeff(x2,y2)))\n",
    "print(\"Euclidean Distance : \" + str(euclidean_dist(x2,y2)))\n",
    "print(\"Jaccard similarity : \" + str(jaccard(x2,y2)))\n"
   ]
  },
  {
   "cell_type": "code",
   "execution_count": null,
   "metadata": {},
   "outputs": [],
   "source": [
    "### Question 19(3)\n",
    "x3=np.array([0,-1,0,1])\n",
    "y3=np.array([1,0,-1,0])\n",
    "\n",
    "print(\"Question 19(3) :\")\n",
    "print(\"Cosine similarity :\"+ str(cos_sim(x3,y3)))\n",
    "print(\"Correlation coefficient : \"+ str(corr_coeff(x3,y3)))\n",
    "print(\"Euclidean Distance : \" + str(euclidean_dist(x3,y3)))"
   ]
  },
  {
   "cell_type": "code",
   "execution_count": null,
   "metadata": {},
   "outputs": [],
   "source": [
    "### Question 19(4)\n",
    "x4=np.array([1,1,0,1,0,1])\n",
    "y4=np.array([1,1,1,0,0,1])\n",
    "\n",
    "print(\"Question 19(4) :\")\n",
    "print(\"Cosine similarity :\"+ str(cos_sim(x4,y4)))\n",
    "print(\"Correlation coefficient : \"+ str(corr_coeff(x4,y4)))\n",
    "print(\"Jaccard similarity : \" + str(jaccard(x4,y4)))"
   ]
  },
  {
   "cell_type": "code",
   "execution_count": null,
   "metadata": {},
   "outputs": [],
   "source": [
    "### Question 19(5)\n",
    "x5=np.array([2,-1,0,2,0,-3])\n",
    "y5=np.array([-1,1,-1,0,0,-1])\n",
    "\n",
    "print(\"Question 19(5) :\")\n",
    "print(\"Cosine similarity :\"+ str(cos_sim(x5,y5)))\n",
    "print(\"Correlation coefficient : \"+ str(corr_coeff(x5,y5)))"
   ]
  },
  {
   "cell_type": "code",
   "execution_count": null,
   "metadata": {},
   "outputs": [],
   "source": []
  }
 ],
 "metadata": {
  "kernelspec": {
   "display_name": "Python 3",
   "language": "python",
   "name": "python3"
  },
  "language_info": {
   "codemirror_mode": {
    "name": "ipython",
    "version": 3
   },
   "file_extension": ".py",
   "mimetype": "text/x-python",
   "name": "python",
   "nbconvert_exporter": "python",
   "pygments_lexer": "ipython3",
   "version": "3.7.3"
  }
 },
 "nbformat": 4,
 "nbformat_minor": 2
}
