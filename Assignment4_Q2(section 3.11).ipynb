{
 "cells": [
  {
   "cell_type": "markdown",
   "metadata": {},
   "source": [
    "## Section 3.11- Question 2"
   ]
  },
  {
   "cell_type": "code",
   "execution_count": 1,
   "metadata": {},
   "outputs": [],
   "source": [
    "# import the libraries\n",
    "import pandas as pd\n",
    "import numpy as np"
   ]
  },
  {
   "cell_type": "code",
   "execution_count": 2,
   "metadata": {},
   "outputs": [
    {
     "data": {
      "text/html": [
       "<div>\n",
       "<style scoped>\n",
       "    .dataframe tbody tr th:only-of-type {\n",
       "        vertical-align: middle;\n",
       "    }\n",
       "\n",
       "    .dataframe tbody tr th {\n",
       "        vertical-align: top;\n",
       "    }\n",
       "\n",
       "    .dataframe thead th {\n",
       "        text-align: right;\n",
       "    }\n",
       "</style>\n",
       "<table border=\"1\" class=\"dataframe\">\n",
       "  <thead>\n",
       "    <tr style=\"text-align: right;\">\n",
       "      <th></th>\n",
       "      <th>Customer_id</th>\n",
       "      <th>Gender</th>\n",
       "      <th>Car_type</th>\n",
       "      <th>Shirt_size</th>\n",
       "      <th>Class</th>\n",
       "    </tr>\n",
       "  </thead>\n",
       "  <tbody>\n",
       "    <tr>\n",
       "      <th>0</th>\n",
       "      <td>1</td>\n",
       "      <td>M</td>\n",
       "      <td>Family</td>\n",
       "      <td>Small</td>\n",
       "      <td>C0</td>\n",
       "    </tr>\n",
       "    <tr>\n",
       "      <th>1</th>\n",
       "      <td>2</td>\n",
       "      <td>M</td>\n",
       "      <td>Sports</td>\n",
       "      <td>Medium</td>\n",
       "      <td>C0</td>\n",
       "    </tr>\n",
       "    <tr>\n",
       "      <th>2</th>\n",
       "      <td>3</td>\n",
       "      <td>M</td>\n",
       "      <td>Sports</td>\n",
       "      <td>Medium</td>\n",
       "      <td>C0</td>\n",
       "    </tr>\n",
       "    <tr>\n",
       "      <th>3</th>\n",
       "      <td>4</td>\n",
       "      <td>M</td>\n",
       "      <td>Sports</td>\n",
       "      <td>Large</td>\n",
       "      <td>C0</td>\n",
       "    </tr>\n",
       "    <tr>\n",
       "      <th>4</th>\n",
       "      <td>5</td>\n",
       "      <td>M</td>\n",
       "      <td>Sports</td>\n",
       "      <td>Extra Large</td>\n",
       "      <td>C0</td>\n",
       "    </tr>\n",
       "  </tbody>\n",
       "</table>\n",
       "</div>"
      ],
      "text/plain": [
       "   Customer_id Gender Car_type   Shirt_size Class\n",
       "0            1      M   Family        Small    C0\n",
       "1            2      M   Sports       Medium    C0\n",
       "2            3      M   Sports       Medium    C0\n",
       "3            4      M   Sports        Large    C0\n",
       "4            5      M   Sports  Extra Large    C0"
      ]
     },
     "execution_count": 2,
     "metadata": {},
     "output_type": "execute_result"
    }
   ],
   "source": [
    "# create the dictionary and put the data into data frame\n",
    "car={'Customer_id':[1,2,3,4,5,6,7,8,9,10,11,12,13,14,15,16,17,18,19,20],\n",
    "    'Gender':['M','M','M','M','M','M','F','F','F','F','M','M','M','M','F','F','F','F','F','F'],\n",
    "    'Car_type':['Family','Sports','Sports','Sports','Sports','Sports','Sports','Sports','Sports','Luxury',\n",
    "                'Family','Family','Family','Luxury','Luxury','Luxury','Luxury','Luxury','Luxury','Luxury'],\n",
    "    'Shirt_size':['Small','Medium','Medium','Large','Extra Large','Extra Large','Small','Small','Medium','Large',\n",
    "                  'Large','Extra Large','Medium','Extra Large','Small','Small','Medium','Medium','Medium','Large'],\n",
    "    'Class':['C0','C0','C0','C0','C0','C0','C0','C0','C0','C0','C1','C1','C1','C1','C1','C1','C1','C1','C1','C1',]}\n",
    "df=pd.DataFrame(car)\n",
    "df[:5]"
   ]
  },
  {
   "cell_type": "code",
   "execution_count": 3,
   "metadata": {
    "scrolled": true
   },
   "outputs": [
    {
     "data": {
      "text/plain": [
       "Customer_id    20\n",
       "Gender         20\n",
       "Car_type       20\n",
       "Shirt_size     20\n",
       "Class          20\n",
       "dtype: int64"
      ]
     },
     "execution_count": 3,
     "metadata": {},
     "output_type": "execute_result"
    }
   ],
   "source": [
    "# calculate the total number of rows\n",
    "total_column=df.count()\n",
    "total_column"
   ]
  },
  {
   "cell_type": "code",
   "execution_count": 24,
   "metadata": {},
   "outputs": [],
   "source": [
    "# function to create Gini Index \n",
    "def gini_index(x,y):\n",
    "    print(\"x=\",x)\n",
    "    print(\"y\",y)\n",
    "    total=x+y\n",
    "    giniindex=1-((x/total)**2)-((y/total)**2)\n",
    "    print((x/total)**2)\n",
    "    print((y/total)**2)\n",
    "    #print(giniindex)\n",
    "    return(giniindex)"
   ]
  },
  {
   "cell_type": "markdown",
   "metadata": {},
   "source": [
    "# Compute the Gini index for the overall collection of training example"
   ]
  },
  {
   "cell_type": "code",
   "execution_count": 5,
   "metadata": {},
   "outputs": [
    {
     "data": {
      "text/plain": [
       "array(['C0', 'C1'], dtype=object)"
      ]
     },
     "execution_count": 5,
     "metadata": {},
     "output_type": "execute_result"
    }
   ],
   "source": [
    "# calculate the unique values in the class attributes\n",
    "df.Class.unique()"
   ]
  },
  {
   "cell_type": "code",
   "execution_count": 6,
   "metadata": {},
   "outputs": [
    {
     "name": "stdout",
     "output_type": "stream",
     "text": [
      "The Gini Index for overall collection(Class):  0.5\n"
     ]
    },
    {
     "data": {
      "text/plain": [
       "0.5"
      ]
     },
     "execution_count": 6,
     "metadata": {},
     "output_type": "execute_result"
    }
   ],
   "source": [
    "# count the values with repect to objects and calcluate the Gini index for class attribute\n",
    "count_c0=(df['Class'].value_counts()).loc['C0']\n",
    "count_c1=(df['Class'].value_counts()).loc['C1']\n",
    "print(\"The Gini Index for overall collection(Class): \",gini_index(count_c0,count_c1))\n",
    "gini_index(count_c0,count_c1)\n"
   ]
  },
  {
   "cell_type": "markdown",
   "metadata": {},
   "source": [
    "# Compute the Gini index for the Car Type attribute using multiway split"
   ]
  },
  {
   "cell_type": "code",
   "execution_count": 7,
   "metadata": {},
   "outputs": [
    {
     "data": {
      "text/plain": [
       "array(['Family', 'Sports', 'Luxury'], dtype=object)"
      ]
     },
     "execution_count": 7,
     "metadata": {},
     "output_type": "execute_result"
    }
   ],
   "source": [
    "# calculate the unique values in Car type attribute\n",
    "df.Car_type.unique()"
   ]
  },
  {
   "cell_type": "code",
   "execution_count": 8,
   "metadata": {},
   "outputs": [
    {
     "name": "stdout",
     "output_type": "stream",
     "text": [
      "Class     C0  C1  All\n",
      "Car_type             \n",
      "Family     1   3    4\n",
      "Luxury     1   7    8\n",
      "Sports     8   0    8\n",
      "All       10  10   20\n"
     ]
    },
    {
     "data": {
      "text/html": [
       "<div>\n",
       "<style scoped>\n",
       "    .dataframe tbody tr th:only-of-type {\n",
       "        vertical-align: middle;\n",
       "    }\n",
       "\n",
       "    .dataframe tbody tr th {\n",
       "        vertical-align: top;\n",
       "    }\n",
       "\n",
       "    .dataframe thead th {\n",
       "        text-align: right;\n",
       "    }\n",
       "</style>\n",
       "<table border=\"1\" class=\"dataframe\">\n",
       "  <thead>\n",
       "    <tr style=\"text-align: right;\">\n",
       "      <th>Class</th>\n",
       "      <th>Car_type</th>\n",
       "      <th>C0</th>\n",
       "      <th>C1</th>\n",
       "      <th>All</th>\n",
       "    </tr>\n",
       "  </thead>\n",
       "  <tbody>\n",
       "    <tr>\n",
       "      <th>0</th>\n",
       "      <td>Family</td>\n",
       "      <td>1</td>\n",
       "      <td>3</td>\n",
       "      <td>4</td>\n",
       "    </tr>\n",
       "    <tr>\n",
       "      <th>1</th>\n",
       "      <td>Luxury</td>\n",
       "      <td>1</td>\n",
       "      <td>7</td>\n",
       "      <td>8</td>\n",
       "    </tr>\n",
       "    <tr>\n",
       "      <th>2</th>\n",
       "      <td>Sports</td>\n",
       "      <td>8</td>\n",
       "      <td>0</td>\n",
       "      <td>8</td>\n",
       "    </tr>\n",
       "    <tr>\n",
       "      <th>3</th>\n",
       "      <td>All</td>\n",
       "      <td>10</td>\n",
       "      <td>10</td>\n",
       "      <td>20</td>\n",
       "    </tr>\n",
       "  </tbody>\n",
       "</table>\n",
       "</div>"
      ],
      "text/plain": [
       "Class Car_type  C0  C1  All\n",
       "0       Family   1   3    4\n",
       "1       Luxury   1   7    8\n",
       "2       Sports   8   0    8\n",
       "3          All  10  10   20"
      ]
     },
     "execution_count": 8,
     "metadata": {},
     "output_type": "execute_result"
    }
   ],
   "source": [
    "Car_type1=pd.crosstab(df['Car_type'], df['Class'],margins=True)\n",
    "print(Car_type1)\n",
    "Car_type1 = Car_type1.reset_index()\n",
    "Car_type1"
   ]
  },
  {
   "cell_type": "code",
   "execution_count": 9,
   "metadata": {},
   "outputs": [
    {
     "name": "stdout",
     "output_type": "stream",
     "text": [
      "The Gini Index for Family car:  0.375\n",
      "The Gini Index for luxury car:  0.21875\n",
      "The Gini Index for Sports car:  0.0\n",
      "The overall Gini for Car Type attribute is 0.16250000000000003\n"
     ]
    }
   ],
   "source": [
    "#calcluate the Gini index for car type attribute\n",
    "family_car_c0=Car_type1.loc[Car_type1.Car_type == 'Family','C0'].values[0]\n",
    "#family_car_c0\n",
    "family_car_c1=Car_type1.loc[Car_type1.Car_type == 'Family','C1'].values[0]\n",
    "#family_car_c1\n",
    "print(\"The Gini Index for Family car: \",gini_index(family_car_c0,family_car_c1))\n",
    "\n",
    "luxury_car_c0=Car_type1.loc[Car_type1.Car_type == 'Luxury','C0'].values[0]\n",
    "luxury_car_c1=Car_type1.loc[Car_type1.Car_type == 'Luxury','C1'].values[0]\n",
    "print(\"The Gini Index for luxury car: \",gini_index(luxury_car_c0,luxury_car_c1))\n",
    "\n",
    "sports_car_c0=Car_type1.loc[Car_type1.Car_type == 'Sports','C0'].values[0]\n",
    "sports_car_c1=Car_type1.loc[Car_type1.Car_type == 'Sports','C1'].values[0]\n",
    "#print(sports_car_c0)\n",
    "print(\"The Gini Index for Sports car: \",gini_index(sports_car_c0,sports_car_c1))\n",
    "\n",
    "cartype_overall_index=gini_index(family_car_c0,family_car_c1)*(4/20)+gini_index(luxury_car_c0,luxury_car_c1)*(8/20)+gini_index(sports_car_c0,sports_car_c1)*(8/20)\n",
    "print(\"The overall Gini for Car Type attribute is\", cartype_overall_index)"
   ]
  },
  {
   "cell_type": "markdown",
   "metadata": {},
   "source": [
    "# Compute the Gini index for the Gender attribute"
   ]
  },
  {
   "cell_type": "code",
   "execution_count": 10,
   "metadata": {},
   "outputs": [
    {
     "data": {
      "text/plain": [
       "array(['M', 'F'], dtype=object)"
      ]
     },
     "execution_count": 10,
     "metadata": {},
     "output_type": "execute_result"
    }
   ],
   "source": [
    "df.Gender.unique()"
   ]
  },
  {
   "cell_type": "code",
   "execution_count": 11,
   "metadata": {},
   "outputs": [
    {
     "name": "stdout",
     "output_type": "stream",
     "text": [
      "Class   C0  C1  All\n",
      "Gender             \n",
      "F        4   6   10\n",
      "M        6   4   10\n",
      "All     10  10   20\n"
     ]
    },
    {
     "data": {
      "text/html": [
       "<div>\n",
       "<style scoped>\n",
       "    .dataframe tbody tr th:only-of-type {\n",
       "        vertical-align: middle;\n",
       "    }\n",
       "\n",
       "    .dataframe tbody tr th {\n",
       "        vertical-align: top;\n",
       "    }\n",
       "\n",
       "    .dataframe thead th {\n",
       "        text-align: right;\n",
       "    }\n",
       "</style>\n",
       "<table border=\"1\" class=\"dataframe\">\n",
       "  <thead>\n",
       "    <tr style=\"text-align: right;\">\n",
       "      <th>Class</th>\n",
       "      <th>Gender</th>\n",
       "      <th>C0</th>\n",
       "      <th>C1</th>\n",
       "      <th>All</th>\n",
       "    </tr>\n",
       "  </thead>\n",
       "  <tbody>\n",
       "    <tr>\n",
       "      <th>0</th>\n",
       "      <td>F</td>\n",
       "      <td>4</td>\n",
       "      <td>6</td>\n",
       "      <td>10</td>\n",
       "    </tr>\n",
       "    <tr>\n",
       "      <th>1</th>\n",
       "      <td>M</td>\n",
       "      <td>6</td>\n",
       "      <td>4</td>\n",
       "      <td>10</td>\n",
       "    </tr>\n",
       "    <tr>\n",
       "      <th>2</th>\n",
       "      <td>All</td>\n",
       "      <td>10</td>\n",
       "      <td>10</td>\n",
       "      <td>20</td>\n",
       "    </tr>\n",
       "  </tbody>\n",
       "</table>\n",
       "</div>"
      ],
      "text/plain": [
       "Class Gender  C0  C1  All\n",
       "0          F   4   6   10\n",
       "1          M   6   4   10\n",
       "2        All  10  10   20"
      ]
     },
     "execution_count": 11,
     "metadata": {},
     "output_type": "execute_result"
    }
   ],
   "source": [
    "gender=pd.crosstab(df['Gender'], df['Class'],margins=True)\n",
    "print(gender)\n",
    "gender = gender.reset_index()\n",
    "gender"
   ]
  },
  {
   "cell_type": "code",
   "execution_count": 25,
   "metadata": {},
   "outputs": [
    {
     "name": "stdout",
     "output_type": "stream",
     "text": [
      "4 6\n",
      "x= 4\n",
      "y 6\n",
      "0.16000000000000003\n",
      "0.36\n",
      "The Gini Index for Female gender :  0.48\n",
      "6 4\n",
      "x= 6\n",
      "y 4\n",
      "0.36\n",
      "0.16000000000000003\n",
      "The Gini Index for Male gender :  0.48\n",
      "x= 4\n",
      "y 6\n",
      "0.16000000000000003\n",
      "0.36\n",
      "x= 6\n",
      "y 4\n",
      "0.36\n",
      "0.16000000000000003\n",
      "The overall Gini for Gender attribute is 0.48\n"
     ]
    }
   ],
   "source": [
    "###calcluate the Gini index for Gender attribute\n",
    "gender_c0=gender.loc[gender.Gender == 'F','C0'].values[0]\n",
    "gender_c1=gender.loc[gender.Gender == 'F','C1'].values[0]\n",
    "print(gender_c0,gender_c1)\n",
    "print(\"The Gini Index for Female gender : \",gini_index(gender_c0,gender_c1))\n",
    "\n",
    "gender_m_c0=gender.loc[gender.Gender == 'M','C0'].values[0]\n",
    "gender_m_c1=gender.loc[gender.Gender == 'M','C1'].values[0]\n",
    "print(gender_m_c0,gender_m_c1)\n",
    "print(\"The Gini Index for Male gender : \",gini_index(gender_m_c0,gender_m_c1))\n",
    "\n",
    "gender_gini_overall=gini_index(gender_c0,gender_c1)*(10/20)+gini_index(gender_m_c0,gender_m_c1)*(10/20)\n",
    "print(\"The overall Gini for Gender attribute is\", gender_gini_overall)"
   ]
  },
  {
   "cell_type": "code",
   "execution_count": 21,
   "metadata": {},
   "outputs": [
    {
     "name": "stdout",
     "output_type": "stream",
     "text": [
      "4 6\n",
      "10\n",
      "1.2\n"
     ]
    }
   ],
   "source": [
    "print(gender_c0,gender_c1)\n",
    "total=gender_c0+gender_c1\n",
    "print(total)\n",
    "a=(gender_c0/total)**2\n",
    "b=(gender_c1/total)**2\n",
    "giniindex=1-(a-b)\n",
    "print(giniindex)"
   ]
  },
  {
   "cell_type": "markdown",
   "metadata": {},
   "source": [
    "# Compute the Gini index for the Shirt size attribute using multiway split"
   ]
  },
  {
   "cell_type": "code",
   "execution_count": 13,
   "metadata": {},
   "outputs": [
    {
     "name": "stdout",
     "output_type": "stream",
     "text": [
      "Class        C0  C1  All\n",
      "Shirt_size              \n",
      "Extra Large   2   2    4\n",
      "Large         2   2    4\n",
      "Medium        3   4    7\n",
      "Small         3   2    5\n",
      "All          10  10   20\n"
     ]
    },
    {
     "data": {
      "text/html": [
       "<div>\n",
       "<style scoped>\n",
       "    .dataframe tbody tr th:only-of-type {\n",
       "        vertical-align: middle;\n",
       "    }\n",
       "\n",
       "    .dataframe tbody tr th {\n",
       "        vertical-align: top;\n",
       "    }\n",
       "\n",
       "    .dataframe thead th {\n",
       "        text-align: right;\n",
       "    }\n",
       "</style>\n",
       "<table border=\"1\" class=\"dataframe\">\n",
       "  <thead>\n",
       "    <tr style=\"text-align: right;\">\n",
       "      <th>Class</th>\n",
       "      <th>Shirt_size</th>\n",
       "      <th>C0</th>\n",
       "      <th>C1</th>\n",
       "      <th>All</th>\n",
       "    </tr>\n",
       "  </thead>\n",
       "  <tbody>\n",
       "    <tr>\n",
       "      <th>0</th>\n",
       "      <td>Extra Large</td>\n",
       "      <td>2</td>\n",
       "      <td>2</td>\n",
       "      <td>4</td>\n",
       "    </tr>\n",
       "    <tr>\n",
       "      <th>1</th>\n",
       "      <td>Large</td>\n",
       "      <td>2</td>\n",
       "      <td>2</td>\n",
       "      <td>4</td>\n",
       "    </tr>\n",
       "    <tr>\n",
       "      <th>2</th>\n",
       "      <td>Medium</td>\n",
       "      <td>3</td>\n",
       "      <td>4</td>\n",
       "      <td>7</td>\n",
       "    </tr>\n",
       "    <tr>\n",
       "      <th>3</th>\n",
       "      <td>Small</td>\n",
       "      <td>3</td>\n",
       "      <td>2</td>\n",
       "      <td>5</td>\n",
       "    </tr>\n",
       "    <tr>\n",
       "      <th>4</th>\n",
       "      <td>All</td>\n",
       "      <td>10</td>\n",
       "      <td>10</td>\n",
       "      <td>20</td>\n",
       "    </tr>\n",
       "  </tbody>\n",
       "</table>\n",
       "</div>"
      ],
      "text/plain": [
       "Class   Shirt_size  C0  C1  All\n",
       "0      Extra Large   2   2    4\n",
       "1            Large   2   2    4\n",
       "2           Medium   3   4    7\n",
       "3            Small   3   2    5\n",
       "4              All  10  10   20"
      ]
     },
     "execution_count": 13,
     "metadata": {},
     "output_type": "execute_result"
    }
   ],
   "source": [
    "Shirt_size1=pd.crosstab(df['Shirt_size'],df['Class'],margins=True)\n",
    "print(Shirt_size1)\n",
    "Shirt_size1 = Shirt_size1.reset_index()\n",
    "Shirt_size1"
   ]
  },
  {
   "cell_type": "code",
   "execution_count": 26,
   "metadata": {},
   "outputs": [
    {
     "name": "stdout",
     "output_type": "stream",
     "text": [
      "3 2\n",
      "x= 3\n",
      "y 2\n",
      "0.36\n",
      "0.16000000000000003\n",
      "The Gini Index for small size:  0.48\n",
      "3 4\n",
      "x= 3\n",
      "y 4\n",
      "0.18367346938775508\n",
      "0.32653061224489793\n",
      "The Gini Index for medium size:  0.489795918367347\n",
      "2 2\n",
      "x= 2\n",
      "y 2\n",
      "0.25\n",
      "0.25\n",
      "The Gini Index for Large size:  0.5\n",
      "2 2\n",
      "x= 2\n",
      "y 2\n",
      "0.25\n",
      "0.25\n",
      "The Gini Index for Extra large size:  0.5\n",
      "x= 3\n",
      "y 2\n",
      "0.36\n",
      "0.16000000000000003\n",
      "x= 3\n",
      "y 4\n",
      "0.18367346938775508\n",
      "0.32653061224489793\n",
      "x= 2\n",
      "y 2\n",
      "0.25\n",
      "0.25\n",
      "x= 2\n",
      "y 2\n",
      "0.25\n",
      "0.25\n",
      "Overall Gini index for shirt size attribute  0.49395918367346936\n"
     ]
    }
   ],
   "source": [
    "###calcluate the Gini index for shirt size attribute\n",
    "small_c0=Shirt_size1.loc[Shirt_size1.Shirt_size == 'Small','C0'].values[0]\n",
    "small_c1=Shirt_size1.loc[Shirt_size1.Shirt_size == 'Small','C1'].values[0]\n",
    "print(small_c0,small_c1)\n",
    "print(\"The Gini Index for small size: \",gini_index(small_c0,small_c1))\n",
    "\n",
    "medium_c0=Shirt_size1.loc[Shirt_size1.Shirt_size == 'Medium','C0'].values[0]\n",
    "medium_c1=Shirt_size1.loc[Shirt_size1.Shirt_size == 'Medium','C1'].values[0]\n",
    "print(medium_c0,medium_c1)\n",
    "print(\"The Gini Index for medium size: \",gini_index(medium_c0,medium_c1))\n",
    "\n",
    "large_c0=Shirt_size1.loc[Shirt_size1.Shirt_size == 'Large','C0'].values[0]\n",
    "large_c1=Shirt_size1.loc[Shirt_size1.Shirt_size == 'Large','C1'].values[0]\n",
    "print(large_c0,large_c1)\n",
    "print(\"The Gini Index for Large size: \",gini_index(large_c0,large_c1))\n",
    "\n",
    "extralarge_c0=Shirt_size1.loc[Shirt_size1.Shirt_size == 'Extra Large','C0'].values[0]\n",
    "extralarge_c1=Shirt_size1.loc[Shirt_size1.Shirt_size == 'Extra Large','C1'].values[0]\n",
    "print(extralarge_c0,extralarge_c1)\n",
    "print(\"The Gini Index for Extra large size: \",gini_index(extralarge_c0,extralarge_c1))\n",
    "\n",
    "\n",
    "ss_overall_gini= gini_index(small_c0,small_c1)*(4/20)+gini_index(medium_c0,medium_c1)*(4/20)+gini_index(large_c0,large_c1)*(7/20)+gini_index(extralarge_c0,extralarge_c1)*(5/20)\n",
    "print(\"Overall Gini index for shirt size attribute \",ss_overall_gini)"
   ]
  },
  {
   "cell_type": "code",
   "execution_count": null,
   "metadata": {},
   "outputs": [],
   "source": []
  }
 ],
 "metadata": {
  "kernelspec": {
   "display_name": "Python 3",
   "language": "python",
   "name": "python3"
  },
  "language_info": {
   "codemirror_mode": {
    "name": "ipython",
    "version": 3
   },
   "file_extension": ".py",
   "mimetype": "text/x-python",
   "name": "python",
   "nbconvert_exporter": "python",
   "pygments_lexer": "ipython3",
   "version": "3.7.3"
  }
 },
 "nbformat": 4,
 "nbformat_minor": 2
}
