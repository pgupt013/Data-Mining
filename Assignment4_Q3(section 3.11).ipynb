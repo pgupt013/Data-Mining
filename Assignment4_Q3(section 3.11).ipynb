{
 "cells": [
  {
   "cell_type": "markdown",
   "metadata": {},
   "source": [
    "## Section 3.11- Question 3"
   ]
  },
  {
   "cell_type": "code",
   "execution_count": 1,
   "metadata": {},
   "outputs": [],
   "source": [
    "# import the libraries\n",
    "import pandas as pd\n",
    "import numpy as np"
   ]
  },
  {
   "cell_type": "code",
   "execution_count": 2,
   "metadata": {},
   "outputs": [
    {
     "data": {
      "text/html": [
       "<div>\n",
       "<style scoped>\n",
       "    .dataframe tbody tr th:only-of-type {\n",
       "        vertical-align: middle;\n",
       "    }\n",
       "\n",
       "    .dataframe tbody tr th {\n",
       "        vertical-align: top;\n",
       "    }\n",
       "\n",
       "    .dataframe thead th {\n",
       "        text-align: right;\n",
       "    }\n",
       "</style>\n",
       "<table border=\"1\" class=\"dataframe\">\n",
       "  <thead>\n",
       "    <tr style=\"text-align: right;\">\n",
       "      <th></th>\n",
       "      <th>Instance</th>\n",
       "      <th>a1</th>\n",
       "      <th>a2</th>\n",
       "      <th>a3</th>\n",
       "      <th>Target_Class</th>\n",
       "    </tr>\n",
       "  </thead>\n",
       "  <tbody>\n",
       "    <tr>\n",
       "      <th>0</th>\n",
       "      <td>1</td>\n",
       "      <td>T</td>\n",
       "      <td>T</td>\n",
       "      <td>1.0</td>\n",
       "      <td>+</td>\n",
       "    </tr>\n",
       "    <tr>\n",
       "      <th>1</th>\n",
       "      <td>2</td>\n",
       "      <td>T</td>\n",
       "      <td>T</td>\n",
       "      <td>6.0</td>\n",
       "      <td>+</td>\n",
       "    </tr>\n",
       "    <tr>\n",
       "      <th>2</th>\n",
       "      <td>3</td>\n",
       "      <td>T</td>\n",
       "      <td>F</td>\n",
       "      <td>5.0</td>\n",
       "      <td>-</td>\n",
       "    </tr>\n",
       "    <tr>\n",
       "      <th>3</th>\n",
       "      <td>4</td>\n",
       "      <td>F</td>\n",
       "      <td>F</td>\n",
       "      <td>4.0</td>\n",
       "      <td>+</td>\n",
       "    </tr>\n",
       "    <tr>\n",
       "      <th>4</th>\n",
       "      <td>5</td>\n",
       "      <td>F</td>\n",
       "      <td>T</td>\n",
       "      <td>7.0</td>\n",
       "      <td>-</td>\n",
       "    </tr>\n",
       "    <tr>\n",
       "      <th>5</th>\n",
       "      <td>6</td>\n",
       "      <td>F</td>\n",
       "      <td>T</td>\n",
       "      <td>3.0</td>\n",
       "      <td>-</td>\n",
       "    </tr>\n",
       "    <tr>\n",
       "      <th>6</th>\n",
       "      <td>7</td>\n",
       "      <td>F</td>\n",
       "      <td>F</td>\n",
       "      <td>8.0</td>\n",
       "      <td>-</td>\n",
       "    </tr>\n",
       "    <tr>\n",
       "      <th>7</th>\n",
       "      <td>8</td>\n",
       "      <td>T</td>\n",
       "      <td>F</td>\n",
       "      <td>7.0</td>\n",
       "      <td>+</td>\n",
       "    </tr>\n",
       "    <tr>\n",
       "      <th>8</th>\n",
       "      <td>9</td>\n",
       "      <td>F</td>\n",
       "      <td>T</td>\n",
       "      <td>5.0</td>\n",
       "      <td>-</td>\n",
       "    </tr>\n",
       "  </tbody>\n",
       "</table>\n",
       "</div>"
      ],
      "text/plain": [
       "   Instance a1 a2   a3 Target_Class\n",
       "0         1  T  T  1.0            +\n",
       "1         2  T  T  6.0            +\n",
       "2         3  T  F  5.0            -\n",
       "3         4  F  F  4.0            +\n",
       "4         5  F  T  7.0            -\n",
       "5         6  F  T  3.0            -\n",
       "6         7  F  F  8.0            -\n",
       "7         8  T  F  7.0            +\n",
       "8         9  F  T  5.0            -"
      ]
     },
     "execution_count": 2,
     "metadata": {},
     "output_type": "execute_result"
    }
   ],
   "source": [
    "# create the dictionary and put the data into data frame\n",
    "data={'Instance' : [1,2,3,4,5,6,7,8,9],\n",
    "     'a1':['T','T','T','F','F','F','F','T','F'],\n",
    "     'a2':['T','T','F','F','T','T','F','F','T'],\n",
    "     'a3':[1.0, 6.0, 5.0,4.0,7.0,3.0,8.0,7.0,5.0],\n",
    "     'Target_Class' : ['+','+','-','+','-','-','-','+','-']\n",
    "     }\n",
    "df=pd.DataFrame(data)\n",
    "df"
   ]
  },
  {
   "cell_type": "code",
   "execution_count": 3,
   "metadata": {},
   "outputs": [],
   "source": [
    "# function to create entropy\n",
    "def entropy(x,y):\n",
    "    total=x+y\n",
    "    entropy_value=-(x/total)*np.log2(x/total)-(y/total)*np.log2(y/total)\n",
    "    return(entropy_value)"
   ]
  },
  {
   "cell_type": "markdown",
   "metadata": {},
   "source": [
    "### What is the entropy of this collection of training examples with respect to the class attribute?"
   ]
  },
  {
   "cell_type": "code",
   "execution_count": 4,
   "metadata": {},
   "outputs": [
    {
     "data": {
      "text/plain": [
       "array(['+', '-'], dtype=object)"
      ]
     },
     "execution_count": 4,
     "metadata": {},
     "output_type": "execute_result"
    }
   ],
   "source": [
    "df.Target_Class.unique()"
   ]
  },
  {
   "cell_type": "code",
   "execution_count": 5,
   "metadata": {},
   "outputs": [
    {
     "name": "stdout",
     "output_type": "stream",
     "text": [
      "4 5\n",
      "The Entropy of Training example is:  0.9910760598382222\n"
     ]
    }
   ],
   "source": [
    "c1=(df['Target_Class'].value_counts()).loc['+']\n",
    "c2=(df['Target_Class'].value_counts()).loc['-']\n",
    "print(c1,c2)\n",
    "en=entropy(c1,c2)\n",
    "print(\"The Entropy of Training example is: \",en)"
   ]
  },
  {
   "cell_type": "markdown",
   "metadata": {},
   "source": [
    "### What are the information gains of a1 and a2 relative to these training examples?"
   ]
  },
  {
   "cell_type": "code",
   "execution_count": 6,
   "metadata": {},
   "outputs": [
    {
     "name": "stdout",
     "output_type": "stream",
     "text": [
      "Target_Class  +  -  All\n",
      "a1                     \n",
      "F             1  4    5\n",
      "T             3  1    4\n",
      "All           4  5    9\n"
     ]
    },
    {
     "data": {
      "text/html": [
       "<div>\n",
       "<style scoped>\n",
       "    .dataframe tbody tr th:only-of-type {\n",
       "        vertical-align: middle;\n",
       "    }\n",
       "\n",
       "    .dataframe tbody tr th {\n",
       "        vertical-align: top;\n",
       "    }\n",
       "\n",
       "    .dataframe thead th {\n",
       "        text-align: right;\n",
       "    }\n",
       "</style>\n",
       "<table border=\"1\" class=\"dataframe\">\n",
       "  <thead>\n",
       "    <tr style=\"text-align: right;\">\n",
       "      <th>Target_Class</th>\n",
       "      <th>a1</th>\n",
       "      <th>+</th>\n",
       "      <th>-</th>\n",
       "      <th>All</th>\n",
       "    </tr>\n",
       "  </thead>\n",
       "  <tbody>\n",
       "    <tr>\n",
       "      <th>0</th>\n",
       "      <td>F</td>\n",
       "      <td>1</td>\n",
       "      <td>4</td>\n",
       "      <td>5</td>\n",
       "    </tr>\n",
       "    <tr>\n",
       "      <th>1</th>\n",
       "      <td>T</td>\n",
       "      <td>3</td>\n",
       "      <td>1</td>\n",
       "      <td>4</td>\n",
       "    </tr>\n",
       "    <tr>\n",
       "      <th>2</th>\n",
       "      <td>All</td>\n",
       "      <td>4</td>\n",
       "      <td>5</td>\n",
       "      <td>9</td>\n",
       "    </tr>\n",
       "  </tbody>\n",
       "</table>\n",
       "</div>"
      ],
      "text/plain": [
       "Target_Class   a1  +  -  All\n",
       "0               F  1  4    5\n",
       "1               T  3  1    4\n",
       "2             All  4  5    9"
      ]
     },
     "execution_count": 6,
     "metadata": {},
     "output_type": "execute_result"
    }
   ],
   "source": [
    "a1_temp=pd.crosstab(df['a1'],df['Target_Class'],margins=True)\n",
    "print(a1_temp)\n",
    "a1_temp = a1_temp.reset_index()\n",
    "a1_temp"
   ]
  },
  {
   "cell_type": "code",
   "execution_count": 7,
   "metadata": {},
   "outputs": [
    {
     "name": "stdout",
     "output_type": "stream",
     "text": [
      "Entropy of False for a1 : 0.7219280948873623\n",
      "Entropy of True for a1 : 0.8112781244591328\n",
      "The overall Entropy for a1 : 0.7616392191414825\n"
     ]
    }
   ],
   "source": [
    "a1_false_p=a1_temp.loc[a1_temp.a1=='F','+'].values[0]\n",
    "a1_false_n=a1_temp.loc[a1_temp.a1=='F','-'].values[0]\n",
    "#print(a1_false_p,a1_false_n)\n",
    "en_a1_false=entropy(a1_false_p,a1_false_n)\n",
    "print(\"Entropy of False for a1 :\",en_a1_false)\n",
    "\n",
    "a1_true_p=a1_temp.loc[a1_temp.a1=='T','+'].values[0]\n",
    "a1_true_n=a1_temp.loc[a1_temp.a1=='T','-'].values[0]\n",
    "#print(a1_true_p,a1_true_n)\n",
    "en_a1_true=entropy(a1_true_p,a1_true_n)\n",
    "print(\"Entropy of True for a1 :\",en_a1_true)\n",
    "\n",
    "entropy_a1_total=(5/9)*en_a1_false + (4/9)*en_a1_true\n",
    "print(\"The overall Entropy for a1 :\",entropy_a1_total)"
   ]
  },
  {
   "cell_type": "code",
   "execution_count": 8,
   "metadata": {},
   "outputs": [
    {
     "name": "stdout",
     "output_type": "stream",
     "text": [
      "Target_Class  +  -  All\n",
      "a2                     \n",
      "F             2  2    4\n",
      "T             2  3    5\n",
      "All           4  5    9\n"
     ]
    },
    {
     "data": {
      "text/html": [
       "<div>\n",
       "<style scoped>\n",
       "    .dataframe tbody tr th:only-of-type {\n",
       "        vertical-align: middle;\n",
       "    }\n",
       "\n",
       "    .dataframe tbody tr th {\n",
       "        vertical-align: top;\n",
       "    }\n",
       "\n",
       "    .dataframe thead th {\n",
       "        text-align: right;\n",
       "    }\n",
       "</style>\n",
       "<table border=\"1\" class=\"dataframe\">\n",
       "  <thead>\n",
       "    <tr style=\"text-align: right;\">\n",
       "      <th>Target_Class</th>\n",
       "      <th>a2</th>\n",
       "      <th>+</th>\n",
       "      <th>-</th>\n",
       "      <th>All</th>\n",
       "    </tr>\n",
       "  </thead>\n",
       "  <tbody>\n",
       "    <tr>\n",
       "      <th>0</th>\n",
       "      <td>F</td>\n",
       "      <td>2</td>\n",
       "      <td>2</td>\n",
       "      <td>4</td>\n",
       "    </tr>\n",
       "    <tr>\n",
       "      <th>1</th>\n",
       "      <td>T</td>\n",
       "      <td>2</td>\n",
       "      <td>3</td>\n",
       "      <td>5</td>\n",
       "    </tr>\n",
       "    <tr>\n",
       "      <th>2</th>\n",
       "      <td>All</td>\n",
       "      <td>4</td>\n",
       "      <td>5</td>\n",
       "      <td>9</td>\n",
       "    </tr>\n",
       "  </tbody>\n",
       "</table>\n",
       "</div>"
      ],
      "text/plain": [
       "Target_Class   a2  +  -  All\n",
       "0               F  2  2    4\n",
       "1               T  2  3    5\n",
       "2             All  4  5    9"
      ]
     },
     "execution_count": 8,
     "metadata": {},
     "output_type": "execute_result"
    }
   ],
   "source": [
    "a2_temp=pd.crosstab(df['a2'],df['Target_Class'],margins=True)\n",
    "print(a2_temp)\n",
    "a2_temp = a2_temp.reset_index()\n",
    "a2_temp"
   ]
  },
  {
   "cell_type": "code",
   "execution_count": 9,
   "metadata": {},
   "outputs": [
    {
     "name": "stdout",
     "output_type": "stream",
     "text": [
      "Entropy of False for a2 : 1.0\n",
      "Entropy of True for a2 : 0.9709505944546686\n",
      "The overall Entropy for a2 : 0.9838614413637048\n"
     ]
    }
   ],
   "source": [
    "a2_false_p=a2_temp.loc[a2_temp.a2=='F','+'].values[0]\n",
    "a2_false_n=a2_temp.loc[a2_temp.a2=='F','-'].values[0]\n",
    "#print(a2_false_p,a2_false_n)\n",
    "en_a2_false=entropy(a2_false_p,a2_false_n)\n",
    "print(\"Entropy of False for a2 :\",en_a2_false)\n",
    "\n",
    "a2_true_p=a2_temp.loc[a2_temp.a2=='T','+'].values[0]\n",
    "a2_true_n=a2_temp.loc[a2_temp.a2=='T','-'].values[0]\n",
    "#print(a2_true_p,a2_true_n)\n",
    "en_a2_true=entropy(a2_true_p,a2_true_n)\n",
    "print(\"Entropy of True for a2 :\",en_a2_true)\n",
    "\n",
    "entropy_a2_total=(4/9)*en_a2_false + (5/9)*en_a2_true\n",
    "print(\"The overall Entropy for a2 :\",entropy_a2_total)"
   ]
  },
  {
   "cell_type": "code",
   "execution_count": 10,
   "metadata": {},
   "outputs": [
    {
     "name": "stdout",
     "output_type": "stream",
     "text": [
      "Information Gain for a1 0.22943684069673975\n",
      "Information Gain for a1 0.007214618474517431\n"
     ]
    }
   ],
   "source": [
    "IG_a1= en-entropy_a1_total\n",
    "print(\"Information Gain for a1\",IG_a1)\n",
    "\n",
    "IG_a2= en-entropy_a2_total\n",
    "print(\"Information Gain for a1\",IG_a2)"
   ]
  },
  {
   "cell_type": "markdown",
   "metadata": {},
   "source": [
    "### What is the best split (between a1 and a2) according to the misclassification error rate?"
   ]
  },
  {
   "cell_type": "code",
   "execution_count": 11,
   "metadata": {},
   "outputs": [
    {
     "data": {
      "text/html": [
       "<div>\n",
       "<style scoped>\n",
       "    .dataframe tbody tr th:only-of-type {\n",
       "        vertical-align: middle;\n",
       "    }\n",
       "\n",
       "    .dataframe tbody tr th {\n",
       "        vertical-align: top;\n",
       "    }\n",
       "\n",
       "    .dataframe thead th {\n",
       "        text-align: right;\n",
       "    }\n",
       "</style>\n",
       "<table border=\"1\" class=\"dataframe\">\n",
       "  <thead>\n",
       "    <tr style=\"text-align: right;\">\n",
       "      <th>Target_Class</th>\n",
       "      <th>a1</th>\n",
       "      <th>+</th>\n",
       "      <th>-</th>\n",
       "      <th>All</th>\n",
       "    </tr>\n",
       "  </thead>\n",
       "  <tbody>\n",
       "    <tr>\n",
       "      <th>0</th>\n",
       "      <td>F</td>\n",
       "      <td>1</td>\n",
       "      <td>4</td>\n",
       "      <td>5</td>\n",
       "    </tr>\n",
       "    <tr>\n",
       "      <th>1</th>\n",
       "      <td>T</td>\n",
       "      <td>3</td>\n",
       "      <td>1</td>\n",
       "      <td>4</td>\n",
       "    </tr>\n",
       "    <tr>\n",
       "      <th>2</th>\n",
       "      <td>All</td>\n",
       "      <td>4</td>\n",
       "      <td>5</td>\n",
       "      <td>9</td>\n",
       "    </tr>\n",
       "  </tbody>\n",
       "</table>\n",
       "</div>"
      ],
      "text/plain": [
       "Target_Class   a1  +  -  All\n",
       "0               F  1  4    5\n",
       "1               T  3  1    4\n",
       "2             All  4  5    9"
      ]
     },
     "execution_count": 11,
     "metadata": {},
     "output_type": "execute_result"
    }
   ],
   "source": [
    "a1_temp"
   ]
  },
  {
   "cell_type": "code",
   "execution_count": 12,
   "metadata": {},
   "outputs": [
    {
     "name": "stdout",
     "output_type": "stream",
     "text": [
      "1 4\n",
      "3 1\n"
     ]
    }
   ],
   "source": [
    "print(a1_false_p,a1_false_n)\n",
    "total_false=a1_false_p+a1_false_n\n",
    "print(a1_true_p,a1_true_n)\n",
    "total_true=a1_true_p+a1_true_n\n"
   ]
  },
  {
   "cell_type": "code",
   "execution_count": 13,
   "metadata": {},
   "outputs": [
    {
     "name": "stdout",
     "output_type": "stream",
     "text": [
      "For attribute a1: false error rate : 0.19999999999999996\n",
      "For attribute a1: true error rate : 0.25\n",
      "For attribute a1: error rate : 0.2222222222222222\n"
     ]
    }
   ],
   "source": [
    "false_error=1-max(a1_false_p/total_false,a1_false_n/total_false)\n",
    "print(\"For attribute a1: false error rate :\",false_error)\n",
    "\n",
    "true_error=1-max(a1_true_p/total_true,a1_true_n/total_true)\n",
    "print(\"For attribute a1: true error rate :\",true_error)\n",
    "\n",
    "w_avg_error=(false_error*5/9)+(true_error*4/9)\n",
    "print(\"For attribute a1: error rate :\",w_avg_error)"
   ]
  },
  {
   "cell_type": "code",
   "execution_count": 14,
   "metadata": {},
   "outputs": [
    {
     "data": {
      "text/html": [
       "<div>\n",
       "<style scoped>\n",
       "    .dataframe tbody tr th:only-of-type {\n",
       "        vertical-align: middle;\n",
       "    }\n",
       "\n",
       "    .dataframe tbody tr th {\n",
       "        vertical-align: top;\n",
       "    }\n",
       "\n",
       "    .dataframe thead th {\n",
       "        text-align: right;\n",
       "    }\n",
       "</style>\n",
       "<table border=\"1\" class=\"dataframe\">\n",
       "  <thead>\n",
       "    <tr style=\"text-align: right;\">\n",
       "      <th>Target_Class</th>\n",
       "      <th>a2</th>\n",
       "      <th>+</th>\n",
       "      <th>-</th>\n",
       "      <th>All</th>\n",
       "    </tr>\n",
       "  </thead>\n",
       "  <tbody>\n",
       "    <tr>\n",
       "      <th>0</th>\n",
       "      <td>F</td>\n",
       "      <td>2</td>\n",
       "      <td>2</td>\n",
       "      <td>4</td>\n",
       "    </tr>\n",
       "    <tr>\n",
       "      <th>1</th>\n",
       "      <td>T</td>\n",
       "      <td>2</td>\n",
       "      <td>3</td>\n",
       "      <td>5</td>\n",
       "    </tr>\n",
       "    <tr>\n",
       "      <th>2</th>\n",
       "      <td>All</td>\n",
       "      <td>4</td>\n",
       "      <td>5</td>\n",
       "      <td>9</td>\n",
       "    </tr>\n",
       "  </tbody>\n",
       "</table>\n",
       "</div>"
      ],
      "text/plain": [
       "Target_Class   a2  +  -  All\n",
       "0               F  2  2    4\n",
       "1               T  2  3    5\n",
       "2             All  4  5    9"
      ]
     },
     "execution_count": 14,
     "metadata": {},
     "output_type": "execute_result"
    }
   ],
   "source": [
    "a2_temp"
   ]
  },
  {
   "cell_type": "code",
   "execution_count": 15,
   "metadata": {},
   "outputs": [
    {
     "name": "stdout",
     "output_type": "stream",
     "text": [
      "2 2\n",
      "2 3\n"
     ]
    }
   ],
   "source": [
    "print(a2_false_p,a2_false_n)\n",
    "t_a2_false=a2_false_p+a2_false_n\n",
    "print(a2_true_p,a2_true_n)\n",
    "t_a2_true=a2_true_p+a2_true_n"
   ]
  },
  {
   "cell_type": "code",
   "execution_count": 16,
   "metadata": {},
   "outputs": [
    {
     "name": "stdout",
     "output_type": "stream",
     "text": [
      "For attribute a2: false error rate : 0.5\n",
      "For attribute a2: true error rate : 0.4\n",
      "For attribute a2: error rate : 0.4444444444444444\n"
     ]
    }
   ],
   "source": [
    "false_error_a2=1-max(a2_false_p/t_a2_false,a2_false_n/t_a2_false)\n",
    "print(\"For attribute a2: false error rate :\",false_error_a2)\n",
    "\n",
    "true_error_a2=1-max(a2_true_p/t_a2_true,a2_true_n/t_a2_true)\n",
    "print(\"For attribute a2: true error rate :\",true_error_a2)\n",
    "\n",
    "w_avg_error_a2=(false_error_a2*4/9)+(true_error_a2*5/9)\n",
    "print(\"For attribute a2: error rate :\",w_avg_error_a2)"
   ]
  },
  {
   "cell_type": "markdown",
   "metadata": {},
   "source": [
    "### Answer: According to error rate a1 produces the best split."
   ]
  },
  {
   "cell_type": "markdown",
   "metadata": {},
   "source": [
    "### What is the best split (between a1 and a2) according to the Gini index?"
   ]
  },
  {
   "cell_type": "code",
   "execution_count": 17,
   "metadata": {},
   "outputs": [
    {
     "name": "stdout",
     "output_type": "stream",
     "text": [
      "Gini Index of true for a1  0.375\n",
      "Gini Index of false for a1  0.31999999999999984\n",
      "The overall Gini Index of a1  0.34444444444444433\n"
     ]
    }
   ],
   "source": [
    "# function to create Gini Index \n",
    "def gini_index(x,y):\n",
    "    total=x+y\n",
    "    giniindex=1-((x/total)**2)-((y/total)**2)\n",
    "    #print(giniindex)\n",
    "    return(giniindex)\n",
    "print(\"Gini Index of true for a1 \",gini_index(a1_true_p,a1_true_n))\n",
    "print(\"Gini Index of false for a1 \",gini_index(a1_false_p,a1_false_n))\n",
    "print(\"The overall Gini Index of a1 \",gini_index(a1_true_p,a1_true_n)*(4/9)+gini_index(a1_false_p,a1_false_n)*(5/9))"
   ]
  },
  {
   "cell_type": "code",
   "execution_count": 18,
   "metadata": {},
   "outputs": [
    {
     "name": "stdout",
     "output_type": "stream",
     "text": [
      "Gini Index of true for a2  0.48\n",
      "Gini Index of false for a2  0.5\n",
      "The overall Gini Index of a2  0.4888888888888889\n"
     ]
    }
   ],
   "source": [
    "print(\"Gini Index of true for a2 \",gini_index(a2_true_p,a2_true_n))\n",
    "print(\"Gini Index of false for a2 \",gini_index(a2_false_p,a2_false_n))\n",
    "print(\"The overall Gini Index of a2 \",gini_index(a2_true_p,a2_true_n)*(5/9)+gini_index(a2_false_p,a2_false_n)*(4/9))"
   ]
  },
  {
   "cell_type": "markdown",
   "metadata": {},
   "source": [
    "### Answer: Since the Gini index for a1 is smaller, it produces the best split."
   ]
  }
 ],
 "metadata": {
  "kernelspec": {
   "display_name": "Python 3",
   "language": "python",
   "name": "python3"
  },
  "language_info": {
   "codemirror_mode": {
    "name": "ipython",
    "version": 3
   },
   "file_extension": ".py",
   "mimetype": "text/x-python",
   "name": "python",
   "nbconvert_exporter": "python",
   "pygments_lexer": "ipython3",
   "version": "3.7.3"
  }
 },
 "nbformat": 4,
 "nbformat_minor": 2
}
