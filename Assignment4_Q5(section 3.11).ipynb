{
 "cells": [
  {
   "cell_type": "markdown",
   "metadata": {},
   "source": [
    "## Section 3.11 - Question 5"
   ]
  },
  {
   "cell_type": "code",
   "execution_count": 1,
   "metadata": {},
   "outputs": [],
   "source": [
    "# import the libraries\n",
    "import pandas as pd\n",
    "import numpy as np"
   ]
  },
  {
   "cell_type": "code",
   "execution_count": 2,
   "metadata": {},
   "outputs": [
    {
     "data": {
      "text/html": [
       "<div>\n",
       "<style scoped>\n",
       "    .dataframe tbody tr th:only-of-type {\n",
       "        vertical-align: middle;\n",
       "    }\n",
       "\n",
       "    .dataframe tbody tr th {\n",
       "        vertical-align: top;\n",
       "    }\n",
       "\n",
       "    .dataframe thead th {\n",
       "        text-align: right;\n",
       "    }\n",
       "</style>\n",
       "<table border=\"1\" class=\"dataframe\">\n",
       "  <thead>\n",
       "    <tr style=\"text-align: right;\">\n",
       "      <th></th>\n",
       "      <th>A</th>\n",
       "      <th>B</th>\n",
       "      <th>Class_Label</th>\n",
       "    </tr>\n",
       "  </thead>\n",
       "  <tbody>\n",
       "    <tr>\n",
       "      <th>0</th>\n",
       "      <td>T</td>\n",
       "      <td>F</td>\n",
       "      <td>+</td>\n",
       "    </tr>\n",
       "    <tr>\n",
       "      <th>1</th>\n",
       "      <td>T</td>\n",
       "      <td>T</td>\n",
       "      <td>+</td>\n",
       "    </tr>\n",
       "    <tr>\n",
       "      <th>2</th>\n",
       "      <td>T</td>\n",
       "      <td>T</td>\n",
       "      <td>+</td>\n",
       "    </tr>\n",
       "    <tr>\n",
       "      <th>3</th>\n",
       "      <td>T</td>\n",
       "      <td>F</td>\n",
       "      <td>-</td>\n",
       "    </tr>\n",
       "    <tr>\n",
       "      <th>4</th>\n",
       "      <td>T</td>\n",
       "      <td>T</td>\n",
       "      <td>+</td>\n",
       "    </tr>\n",
       "    <tr>\n",
       "      <th>5</th>\n",
       "      <td>F</td>\n",
       "      <td>F</td>\n",
       "      <td>-</td>\n",
       "    </tr>\n",
       "    <tr>\n",
       "      <th>6</th>\n",
       "      <td>F</td>\n",
       "      <td>F</td>\n",
       "      <td>-</td>\n",
       "    </tr>\n",
       "    <tr>\n",
       "      <th>7</th>\n",
       "      <td>F</td>\n",
       "      <td>F</td>\n",
       "      <td>-</td>\n",
       "    </tr>\n",
       "    <tr>\n",
       "      <th>8</th>\n",
       "      <td>T</td>\n",
       "      <td>T</td>\n",
       "      <td>-</td>\n",
       "    </tr>\n",
       "    <tr>\n",
       "      <th>9</th>\n",
       "      <td>T</td>\n",
       "      <td>F</td>\n",
       "      <td>-</td>\n",
       "    </tr>\n",
       "  </tbody>\n",
       "</table>\n",
       "</div>"
      ],
      "text/plain": [
       "   A  B Class_Label\n",
       "0  T  F           +\n",
       "1  T  T           +\n",
       "2  T  T           +\n",
       "3  T  F           -\n",
       "4  T  T           +\n",
       "5  F  F           -\n",
       "6  F  F           -\n",
       "7  F  F           -\n",
       "8  T  T           -\n",
       "9  T  F           -"
      ]
     },
     "execution_count": 2,
     "metadata": {},
     "output_type": "execute_result"
    }
   ],
   "source": [
    "# create data frame\n",
    "data = {'A':['T','T','T','T','T','F','F','F','T','T'],\n",
    "        'B':['F','T','T','F','T','F','F','F','T','F'],\n",
    "        'Class_Label' : ['+','+','+','-','+','-','-','-','-','-']\n",
    "       }\n",
    "df = pd.DataFrame(data)\n",
    "df"
   ]
  },
  {
   "cell_type": "markdown",
   "metadata": {},
   "source": [
    "#### Calculate the information gain when splitting on A and B. Which attribute would the decision tree induction algorithm choose?"
   ]
  },
  {
   "cell_type": "code",
   "execution_count": 3,
   "metadata": {},
   "outputs": [
    {
     "name": "stdout",
     "output_type": "stream",
     "text": [
      "-    6\n",
      "+    4\n",
      "Name: Class_Label, dtype: int64\n",
      "The Overall Entropy before splitting of Training example is:  0.9709505944546686\n"
     ]
    }
   ],
   "source": [
    "### Let's calculate the overall Entropy before splitting\n",
    "print(df['Class_Label'].value_counts())\n",
    "Entropy_TrainingExample = -(4/10)*np.log2(4/10) - (6/10)*np.log2(6/10)\n",
    "print(\"The Overall Entropy before splitting of Training example is: \", Entropy_TrainingExample)"
   ]
  },
  {
   "cell_type": "code",
   "execution_count": 4,
   "metadata": {},
   "outputs": [
    {
     "name": "stdout",
     "output_type": "stream",
     "text": [
      "A            T  F\n",
      "Class_Label      \n",
      "+            4  0\n",
      "-            3  3\n",
      "All          7  3\n",
      "The Entropy of True for A is : 0.9852281360342515\n",
      "The Entropy of False for A is : nan\n",
      "The Overall Entropy of A is:  0.6896596952239761\n",
      "The Information Gain for A is:  0.2812908992306925\n"
     ]
    },
    {
     "name": "stderr",
     "output_type": "stream",
     "text": [
      "C:\\Users\\poonam\\Anaconda3\\lib\\site-packages\\ipykernel_launcher.py:12: RuntimeWarning: divide by zero encountered in log2\n",
      "  if sys.path[0] == '':\n",
      "C:\\Users\\poonam\\Anaconda3\\lib\\site-packages\\ipykernel_launcher.py:12: RuntimeWarning: invalid value encountered in double_scalars\n",
      "  if sys.path[0] == '':\n"
     ]
    }
   ],
   "source": [
    "#### The contingency table for attribute A:\n",
    "#### Change the factors of a1:\n",
    "Lvl=['T','F']\n",
    "A_class=pd.crosstab(df['Class_Label'],df['A'],margins=True)\n",
    "A_class=A_class.reindex(Lvl, axis='columns')\n",
    "print(A_class)\n",
    "\n",
    "#### Entropy for A(true)\n",
    "Entropy_True= -(4/7)*np.log2(4/7) - (3/7)*np.log2(3/7)\n",
    "#Entropy_True\n",
    "#### Entropy for A(false)\n",
    "Entropy_False= - (3/3)*np.log2(3/3)-(0/3)*np.log2(0/3)\n",
    "#Entropy_False\n",
    "#### The Overall Entropy of A is:\n",
    "Entropy_a1= (7/10) * Entropy_True + (3/10) * 0\n",
    "#Entropy_a1\n",
    "#### Information Gain for A:\n",
    "Information_gain_a1= Entropy_TrainingExample - Entropy_a1\n",
    "#Information_gain_a1\n",
    "\n",
    "print(\"The Entropy of True for A is :\", Entropy_True)\n",
    "print(\"The Entropy of False for A is :\", Entropy_False)\n",
    "print(\"The Overall Entropy of A is: \", Entropy_a1)\n",
    "print(\"The Information Gain for A is: \", Information_gain_a1)"
   ]
  },
  {
   "cell_type": "code",
   "execution_count": 5,
   "metadata": {},
   "outputs": [
    {
     "name": "stdout",
     "output_type": "stream",
     "text": [
      "B            T  F\n",
      "Class_Label      \n",
      "+            3  1\n",
      "-            1  5\n",
      "All          4  6\n",
      "The Entropy of True for B is : 0.8112781244591328\n",
      "The Entropy of False for B is : 0.6500224216483541\n",
      "The Overall Entropy of B is:  0.7145247027726656\n",
      "The Information Gain for B is:  0.256425891682003\n"
     ]
    }
   ],
   "source": [
    "#### The contingency table for attribute B:\n",
    "#### Change the factors of B:\n",
    "Lvl=['T','F']\n",
    "B_class=pd.crosstab(df['Class_Label'],df['B'],margins=True)\n",
    "B_class=B_class.reindex(Lvl, axis='columns')\n",
    "print(B_class)\n",
    "\n",
    "#### Entropy for B(true)\n",
    "Entropy_True= -(3/4)*np.log2(3/4) - (1/4)*np.log2(1/4)\n",
    "#Entropy_True\n",
    "## Entropy for B(false)\n",
    "Entropy_False= - (1/6)*np.log2(1/6)-(5/6)*np.log2(5/6)\n",
    "#Entropy_False\n",
    "\n",
    "#### The Overall Entropy of B is:\n",
    "Entropy_B= (4/10) * Entropy_True + (6/10) * Entropy_False\n",
    "#Entropy_B\n",
    "\n",
    "#### Information gain for B:\n",
    "Information_gain_B= Entropy_TrainingExample - Entropy_B\n",
    "Information_gain_B\n",
    "\n",
    "print(\"The Entropy of True for B is :\", Entropy_True)\n",
    "print(\"The Entropy of False for B is :\", Entropy_False)\n",
    "print(\"The Overall Entropy of B is: \", Entropy_B)\n",
    "print(\"The Information Gain for B is: \", Information_gain_B)"
   ]
  },
  {
   "cell_type": "markdown",
   "metadata": {},
   "source": [
    "#### After comparing the information gain of attribute A and B.Attribute A will be chosen to split the node."
   ]
  },
  {
   "cell_type": "markdown",
   "metadata": {},
   "source": [
    "#### Calculate the gain in the Gini index when splitting on A and B. Which attribute would the decision tree induction algorithm choose?"
   ]
  },
  {
   "cell_type": "code",
   "execution_count": 6,
   "metadata": {},
   "outputs": [
    {
     "name": "stdout",
     "output_type": "stream",
     "text": [
      "-    6\n",
      "+    4\n",
      "Name: Class_Label, dtype: int64\n",
      "The Overall Gini Index before splitting of Training example is:  0.48\n"
     ]
    }
   ],
   "source": [
    "#### Let's calculate the overall Gini before splitting\n",
    "print(df['Class_Label'].value_counts())\n",
    "Gini_TrainingExample = 1 - (4/10)**2 - (6/10)**2\n",
    "print(\"The Overall Gini Index before splitting of Training example is: \", Gini_TrainingExample)"
   ]
  },
  {
   "cell_type": "code",
   "execution_count": 7,
   "metadata": {},
   "outputs": [
    {
     "name": "stdout",
     "output_type": "stream",
     "text": [
      "A            T  F\n",
      "Class_Label      \n",
      "+            4  0\n",
      "-            3  3\n",
      "All          7  3\n",
      "The Gain in Gini of True for A is : 0.48979591836734704\n",
      "The Gain in Gini of False for A is : 0.0\n",
      "The Gain in Gini after splitting on A is:  0.13714285714285707\n"
     ]
    }
   ],
   "source": [
    "#### The contingency table for attribute A:\n",
    "#### Change the factors of A:\n",
    "Lvl=['T','F']\n",
    "A_class=pd.crosstab(df['Class_Label'],df['A'],margins=True)\n",
    "A_class=A_class.reindex(Lvl, axis='columns')\n",
    "print(A_class)\n",
    "\n",
    "#### Gini index for A(true)\n",
    "Gain_Gini_True= 1 - (4/7)**2 - (3/7)**2\n",
    "#Gain_Gini_True\n",
    "#### Gini index for A(false)\n",
    "Gain_Gini_False= 1 - (3/3)**2 - (0/3)**2\n",
    "#Gain_Gini_False\n",
    "#### The Overall Gini index of A is:\n",
    "Overall_Gain_Gini_A= (7/10) * Gain_Gini_True + (3/10) * Gain_Gini_False\n",
    "Overall_Gain_Gini_A\n",
    "\n",
    "#### Gain in Gini after splitting on A:\n",
    "Gain_Gini_After_Splitting_A= Gini_TrainingExample - Overall_Gain_Gini_A\n",
    "Gain_Gini_After_Splitting_A\n",
    "\n",
    "print(\"The Gain in Gini of True for A is :\", Gain_Gini_True)\n",
    "print(\"The Gain in Gini of False for A is :\", Gain_Gini_False)\n",
    "print(\"The Gain in Gini after splitting on A is: \", Gain_Gini_After_Splitting_A)"
   ]
  },
  {
   "cell_type": "code",
   "execution_count": 8,
   "metadata": {},
   "outputs": [
    {
     "name": "stdout",
     "output_type": "stream",
     "text": [
      "B            T  F\n",
      "Class_Label      \n",
      "+            3  1\n",
      "-            1  5\n",
      "All          4  6\n",
      "The Gain in Gini of True for B is : 0.375\n",
      "The Gain in Gini of False for B is : 0.2777777777777777\n",
      "The Gain in Gini after splitting on B is:  0.16333333333333333\n"
     ]
    }
   ],
   "source": [
    "#### Change the factors of B:\n",
    "Lvl=['T','F']\n",
    "B_class=pd.crosstab(df['Class_Label'],df['B'],margins=True)\n",
    "B_class=B_class.reindex(Lvl, axis='columns')\n",
    "print(B_class)\n",
    "\n",
    "#### Gini index for B(true)\n",
    "Gain_Gini_True= 1 - (3/4)**2 - (1/4)**2\n",
    "#Gain_Gini_True\n",
    "#### Gini index for B(false)\n",
    "Gain_Gini_False= 1 - (1/6)**2 - (5/6)**2\n",
    "#Gain_Gini_False\n",
    "#### The Overall Gini index for B:\n",
    "Overall_Gain_Gini_B= (4/10) * Gain_Gini_True + (6/10) * Gain_Gini_False\n",
    "#Overall_Gain_Gini_B\n",
    "#### Gain in Gini after splitting on B:\n",
    "Gain_Gini_After_Splitting_B= Gini_TrainingExample - Overall_Gain_Gini_B\n",
    "#Gain_Gini_After_Splitting_B\n",
    "\n",
    "print(\"The Gain in Gini of True for B is :\", Gain_Gini_True)\n",
    "print(\"The Gain in Gini of False for B is :\", Gain_Gini_False)\n",
    "print(\"The Gain in Gini after splitting on B is: \", Gain_Gini_After_Splitting_B)"
   ]
  },
  {
   "cell_type": "markdown",
   "metadata": {},
   "source": [
    "#### After comaring the gini index of attribute A and B. B will be chosen to split the node."
   ]
  }
 ],
 "metadata": {
  "kernelspec": {
   "display_name": "Python 3",
   "language": "python",
   "name": "python3"
  },
  "language_info": {
   "codemirror_mode": {
    "name": "ipython",
    "version": 3
   },
   "file_extension": ".py",
   "mimetype": "text/x-python",
   "name": "python",
   "nbconvert_exporter": "python",
   "pygments_lexer": "ipython3",
   "version": "3.7.3"
  }
 },
 "nbformat": 4,
 "nbformat_minor": 2
}
